{
 "cells": [
  {
   "cell_type": "code",
   "execution_count": 10,
   "metadata": {},
   "outputs": [
    {
     "data": {
      "text/html": [
       "<div>\n",
       "<style scoped>\n",
       "    .dataframe tbody tr th:only-of-type {\n",
       "        vertical-align: middle;\n",
       "    }\n",
       "\n",
       "    .dataframe tbody tr th {\n",
       "        vertical-align: top;\n",
       "    }\n",
       "\n",
       "    .dataframe thead th {\n",
       "        text-align: right;\n",
       "    }\n",
       "</style>\n",
       "<table border=\"1\" class=\"dataframe\">\n",
       "  <thead>\n",
       "    <tr style=\"text-align: right;\">\n",
       "      <th></th>\n",
       "      <th>asd</th>\n",
       "      <th>ws</th>\n",
       "      <th>qwe</th>\n",
       "      <th>po</th>\n",
       "    </tr>\n",
       "  </thead>\n",
       "  <tbody>\n",
       "    <tr>\n",
       "      <th>data1</th>\n",
       "      <td>546</td>\n",
       "      <td>24</td>\n",
       "      <td>0</td>\n",
       "      <td>54</td>\n",
       "    </tr>\n",
       "  </tbody>\n",
       "</table>\n",
       "</div>"
      ],
      "text/plain": [
       "       asd  ws  qwe  po\n",
       "data1  546  24    0  54"
      ]
     },
     "execution_count": 10,
     "metadata": {},
     "output_type": "execute_result"
    }
   ],
   "source": [
    "def dict_union(d1, d2):\n",
    "    keys = d1.keys() | d2.keys()\n",
    "    temp = {}\n",
    "    for key in keys:\n",
    "        temp[key] = sum([d.get(key,0) for d in (d1, d2)])\n",
    "    return temp\n",
    "\n",
    "a = {'asd':546}\n",
    "b = {'qwe':0,'ws':11}\n",
    "c = {'po':54}\n",
    "d = {'qwe':0,'ws':13}\n",
    "a_list = [a,b,c,d]\n",
    "\n",
    "qqq = []\n",
    "for i in range(len(a_list)):\n",
    "    for j in range(len(a_list)):\n",
    "        if i+j+1 <= len(a_list)-1:\n",
    "            if a_list[i].keys() == a_list[i+j+1].keys():\n",
    "                C = dict_union(a_list[i],a_list[i+j+1])\n",
    "                qqq.append(C)\n",
    "                break\n",
    "            else:\n",
    "                continue\n",
    "        else:\n",
    "            if  i!=len(a_list)-1:\n",
    "                qqq.append(a_list[i])\n",
    "                break\n",
    "res = {} \n",
    "a = ['data1']\n",
    "for d in qqq: \n",
    "    res.update(d) \n",
    "b = pd.DataFrame([res])\n",
    "b.index = a"
   ]
  }
 ],
 "metadata": {
  "kernelspec": {
   "display_name": "Python 3",
   "language": "python",
   "name": "python3"
  },
  "language_info": {
   "codemirror_mode": {
    "name": "ipython",
    "version": 3
   },
   "file_extension": ".py",
   "mimetype": "text/x-python",
   "name": "python",
   "nbconvert_exporter": "python",
   "pygments_lexer": "ipython3",
   "version": "3.7.7"
  }
 },
 "nbformat": 4,
 "nbformat_minor": 4
}
