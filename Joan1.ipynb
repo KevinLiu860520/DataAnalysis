{
 "cells": [
  {
   "cell_type": "code",
   "execution_count": 10,
   "metadata": {},
   "outputs": [
    {
     "data": {
      "text/html": [
       "<div>\n",
       "<style scoped>\n",
       "    .dataframe tbody tr th:only-of-type {\n",
       "        vertical-align: middle;\n",
       "    }\n",
       "\n",
       "    .dataframe tbody tr th {\n",
       "        vertical-align: top;\n",
       "    }\n",
       "\n",
       "    .dataframe thead th {\n",
       "        text-align: right;\n",
       "    }\n",
       "</style>\n",
       "<table border=\"1\" class=\"dataframe\">\n",
       "  <thead>\n",
       "    <tr style=\"text-align: right;\">\n",
       "      <th></th>\n",
       "      <th>asd</th>\n",
       "      <th>ws</th>\n",
       "      <th>qwe</th>\n",
       "      <th>po</th>\n",
       "    </tr>\n",
       "  </thead>\n",
       "  <tbody>\n",
       "    <tr>\n",
       "      <th>data1</th>\n",
       "      <td>546</td>\n",
       "      <td>24</td>\n",
       "      <td>0</td>\n",
       "      <td>54</td>\n",
       "    </tr>\n",
       "  </tbody>\n",
       "</table>\n",
       "</div>"
      ],
      "text/plain": [
       "       asd  ws  qwe  po\n",
       "data1  546  24    0  54"
      ]
     },
     "execution_count": 10,
     "metadata": {},
     "output_type": "execute_result"
    }
   ],
   "source": [
    "import pandas as pd\n",
    "\n",
    "def generate_top3_pivot(pk, sk, target, writer):\n",
    "    # generate pivot table\n",
    "    df_pivot = df.groupby([pk, sk])[target].mean().reset_index()\n",
    "\n",
    "    # get top 3 max from pivot table by each primary key\n",
    "    df_pivot_top3 = df_pivot.groupby([pk])[target].nlargest(3).reset_index()\n",
    "\n",
    "    # get second key list by the index (leevel_1)\n",
    "    second_key_list = []\n",
    "    for d in df_pivot_top3['level_1']:\n",
    "        second_key_list.append(df_pivot[sk][d])\n",
    "\n",
    "    # add second key info to top3 pivot table\n",
    "    df_pivot_top3[sk] = second_key_list\n",
    "\n",
    "    # remove second key index (level_1)\n",
    "    df_pivot_top3 = df_pivot_top3.drop(['level_1'], axis=1)\n",
    "    \n",
    "    df_pivot_top3.to_excel(writer, sheet_name=sk, index=False)\n",
    "\n",
    "if __name__ == '__main__':\n",
    "    df = pd.DataFrame({'T': ['t1', 't1', 't1', 't1', 't2', 't2', 't3', 't3'], 'P': ['p2', 'p1', 'p3', 'p4', 'p2', 'p1', 'p3', 'p2'], 'S': ['s2', 's1', 's3', 's4', 's2', 's1', 's3', 's2'], 'Q': [0.8, 0.7, 0.2, 0.4, 0.6, 0.9, 0.6, 0.1]})\n",
    "\n",
    "    # need to analysis column\n",
    "    analysis_list = ['P', 'S']\n",
    "    \n",
    "    writer = pd.ExcelWriter('123.xlsx', engine = 'xlsxwriter')\n",
    "    \n",
    "    for i in analysis_list:\n",
    "        generate_top3_pivot('T', i, 'Q', writer)\n",
    "\n",
    "    writer.save()\n",
    "    writer.close()"
   ]
  }
 ],
 "metadata": {
  "kernelspec": {
   "display_name": "Python 3",
   "language": "python",
   "name": "python3"
  },
  "language_info": {
   "codemirror_mode": {
    "name": "ipython",
    "version": 3
   },
   "file_extension": ".py",
   "mimetype": "text/x-python",
   "name": "python",
   "nbconvert_exporter": "python",
   "pygments_lexer": "ipython3",
   "version": "3.7.7"
  }
 },
 "nbformat": 4,
 "nbformat_minor": 4
}
