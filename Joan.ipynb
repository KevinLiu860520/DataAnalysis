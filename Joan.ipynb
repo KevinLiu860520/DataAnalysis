{
 "cells": [
  {
   "cell_type": "code",
   "execution_count": 16,
   "metadata": {},
   "outputs": [
    {
     "name": "stdout",
     "output_type": "stream",
     "text": [
      "     var_1  var_2  var_3\n",
      "p1       2      1      6\n",
      "p2      23     28     45\n",
      "p3      13     52     23\n",
      "p4      14     19     78\n",
      "p5      15    452     12\n",
      "p6      55     60      2\n",
      "p7      16    200     54\n",
      "p8      56     45     11\n",
      "p9      12     17      5\n",
      "p10     35     78     79\n",
      "p11      1     22     78\n",
      "p12     32     54     77\n",
      "----------\n",
      "(12, 3)\n",
      "\n",
      " This is for var_1 column:\n",
      "1_Max: 56 \tpart: p8 \ttech: var_1\n",
      "2_Max: 55 \tpart: p6 \ttech: var_1\n",
      "3_Max: 35 \tpart: p10 \ttech: var_1\n",
      "\n",
      " This is for var_2 column:\n",
      "1_Max: 452 \tpart: p5 \ttech: var_2\n",
      "2_Max: 200 \tpart: p7 \ttech: var_2\n",
      "3_Max: 78 \tpart: p10 \ttech: var_2\n",
      "\n",
      " This is for var_3 column:\n",
      "1_Max: 79 \tpart: p10 \ttech: var_3\n",
      "2_Max: 78 \tpart: p4 \ttech: var_3\n",
      "3_Max: 78 \tpart: p11 \ttech: var_3\n"
     ]
    }
   ],
   "source": [
    "import pandas as pd\n",
    "import numpy as np\n",
    "\n",
    "df = pd.read_csv('C:\\\\Users\\\\joan8\\\\OneDrive\\\\document\\\\123.csv')\n",
    "\n",
    "# set part name\n",
    "part_name = []\n",
    "for i in np.arange(12):\n",
    "    tmp = 'p' + str(i+1)\n",
    "    part_name.append(tmp)\n",
    "\n",
    "# set dataframe index\n",
    "df.index = part_name\n",
    "\n",
    "print(df)\n",
    "print('-'*10)\n",
    "\n",
    "# size of dataframe\n",
    "print(df.shape)\n",
    "\n",
    "for i in range(df.shape[1]):\n",
    "    print('\\n', 'This is for var_' + str(i+1), 'column:')\n",
    "    \n",
    "    # get sort list of every column\n",
    "    sort = (df.sort_values(by=[df.columns[i]], ascending=False)).iloc[:, i]\n",
    "    sort_list = list(sort)\n",
    "    \n",
    "    # print three max\n",
    "    for j in range(3):\n",
    "        Max = sort_list[j]\n",
    "        x_axis = sort.index[j]\n",
    "        y_axis = df.columns[i]\n",
    "        print(str(j+1) + '_Max:', Max, '\\tpart:', x_axis, '\\ttech:', y_axis)"
   ]
  },
  {
   "cell_type": "code",
   "execution_count": null,
   "metadata": {},
   "outputs": [],
   "source": []
  }
 ],
 "metadata": {
  "kernelspec": {
   "display_name": "Python 3",
   "language": "python",
   "name": "python3"
  }
 },
 "nbformat": 4,
 "nbformat_minor": 4
}
